{
 "cells": [
  {
   "cell_type": "markdown",
   "metadata": {},
   "source": [
    "# Log File Analysis"
   ]
  },
  {
   "cell_type": "markdown",
   "metadata": {},
   "source": [
    "### Initialization\n",
    "Please pick a log file from the options below."
   ]
  },
  {
   "cell_type": "code",
   "execution_count": null,
   "metadata": {},
   "outputs": [],
   "source": [
    "import ipywidgets as widgets\n",
    "import pandas as pd\n",
    "from os import walk\n",
    "from os.path import splitext, join\n",
    "\n",
    "LOG_FILE_LOCATION=\"logs\"\n",
    "\n",
    "log_files = []\n",
    "for (dirpath, dirnames, filenames) in walk(LOG_FILE_LOCATION):\n",
    "  logs = [join(dirpath, f) for f in filenames if splitext(f)[1] == '.csv']\n",
    "  log_files.extend(logs)\n",
    "\n",
    "def load_log_file(log_file_path):  \n",
    "  # Put any additional necessary setup here\n",
    "  return pd.read_csv(log_file_path)\n",
    "\n",
    "selected_file = widgets.Dropdown(options = log_files, description='Log file:')\n",
    "selected_file"
   ]
  },
  {
   "cell_type": "code",
   "execution_count": null,
   "metadata": {},
   "outputs": [],
   "source": [
    "data = load_log_file(selected_file.value)\n",
    "data.head()"
   ]
  },
  {
   "cell_type": "markdown",
   "metadata": {},
   "source": [
    "### Graph\n",
    "\n",
    "Pick an x and y axis to graph data"
   ]
  },
  {
   "cell_type": "code",
   "execution_count": null,
   "metadata": {},
   "outputs": [],
   "source": [
    "x_axis_input = widgets.Dropdown(options = data.columns, description=\"X Axis\")\n",
    "y_axis_input = widgets.Dropdown(options = data.columns, description=\"Y Axis\")\n",
    "\n",
    "axis_choice = widgets.HBox([x_axis_input, y_axis_input])\n",
    "axis_choice"
   ]
  },
  {
   "cell_type": "code",
   "execution_count": null,
   "metadata": {},
   "outputs": [],
   "source": [
    "import matplotlib\n",
    "\n",
    "data.plot(kind=\"line\", x=x_axis_input.value, y=y_axis_input.value)"
   ]
  },
  {
   "cell_type": "code",
   "execution_count": null,
   "metadata": {},
   "outputs": [],
   "source": []
  },
  {
   "cell_type": "code",
   "execution_count": null,
   "metadata": {},
   "outputs": [],
   "source": []
  }
 ],
 "metadata": {
  "interpreter": {
   "hash": "648e463870ce14f478bc6975c5907e8c1e3b047b607302f6c6691f7f43142060"
  },
  "kernelspec": {
   "display_name": "Python 3.10.2 ('log-analysis': venv)",
   "language": "python",
   "name": "python3"
  },
  "language_info": {
   "codemirror_mode": {
    "name": "ipython",
    "version": 3
   },
   "file_extension": ".py",
   "mimetype": "text/x-python",
   "name": "python",
   "nbconvert_exporter": "python",
   "pygments_lexer": "ipython3",
   "version": "3.10.2"
  },
  "orig_nbformat": 4
 },
 "nbformat": 4,
 "nbformat_minor": 2
}
